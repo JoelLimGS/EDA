{
 "cells": [
  {
   "cell_type": "code",
   "execution_count": 18,
   "metadata": {},
   "outputs": [],
   "source": [
    "# Exploratory Data Analysis using the \"AWESOME\" Framework. \n",
    "# Actually it is the OSEMN Framework - just that many others including me pronunced it as \"Awe-Some\". \n",
    "# (1) Obtaining data.\n",
    "# (2) Srubbing or cleaning the data obtained which is so important as the famous saying goes \"gargabe in, garbage out\".\n",
    "# (3) Exploring the data to detect patterns & visualize trends.\n",
    "# (4) Modelling the data using various machine learning tools so as to lend us some of their predictive powers.\n",
    "# (5) iNterpreting the data being modelled - explain our models & the results derived to various stakeholders."
   ]
  },
  {
   "cell_type": "code",
   "execution_count": 23,
   "metadata": {},
   "outputs": [],
   "source": [
    "# Importing the necessary libraries that i will be using.\n",
    "\n",
    "import sqlite3 as sql # Using the sqlite3 package to access the database.\n",
    "import pandas as pd # For data manipulation & analysis.\n",
    "import numpy as np # To perform quick operations on numerical data.\n",
    "import seaborn as sns # For data visualization.\n",
    "import matplotlib.pyplot as plt # For forming useful plots.\n",
    "# Command that allow us to view matplotlib plots in a Jupyter notebook. \n",
    "%matplotlib inline \n",
    "matplotlib.rcParams['figure.figsize'] = (10,6)"
   ]
  },
  {
   "cell_type": "markdown",
   "metadata": {},
   "source": [
    "# <font color = red>(1) <font size = 8>O</font>BTAINING DATA according to the <font color = blue><font size = 8>O</font>.S.E.M.N.</font> Framework.</font>"
   ]
  },
  {
   "cell_type": "code",
   "execution_count": 92,
   "metadata": {},
   "outputs": [
    {
     "data": {
      "text/html": [
       "<div>\n",
       "<style scoped>\n",
       "    .dataframe tbody tr th:only-of-type {\n",
       "        vertical-align: middle;\n",
       "    }\n",
       "\n",
       "    .dataframe tbody tr th {\n",
       "        vertical-align: top;\n",
       "    }\n",
       "\n",
       "    .dataframe thead th {\n",
       "        text-align: right;\n",
       "    }\n",
       "</style>\n",
       "<table border=\"1\" class=\"dataframe\">\n",
       "  <thead>\n",
       "    <tr style=\"text-align: right;\">\n",
       "      <th></th>\n",
       "      <th>id</th>\n",
       "      <th>date</th>\n",
       "      <th>price</th>\n",
       "      <th>bedrooms</th>\n",
       "      <th>bathrooms</th>\n",
       "      <th>floors</th>\n",
       "      <th>waterfront</th>\n",
       "      <th>view</th>\n",
       "      <th>condition</th>\n",
       "      <th>review_score</th>\n",
       "      <th>basement_size</th>\n",
       "      <th>built</th>\n",
       "      <th>renovation</th>\n",
       "      <th>zipcode</th>\n",
       "      <th>latitude</th>\n",
       "      <th>longitude</th>\n",
       "      <th>living_room_size</th>\n",
       "      <th>lot_size</th>\n",
       "    </tr>\n",
       "  </thead>\n",
       "  <tbody>\n",
       "    <tr>\n",
       "      <th>0</th>\n",
       "      <td>7787980.0</td>\n",
       "      <td>13 October 2014</td>\n",
       "      <td>221900.0</td>\n",
       "      <td>3.0</td>\n",
       "      <td>1.00</td>\n",
       "      <td>1.0</td>\n",
       "      <td>0.0</td>\n",
       "      <td>0.0</td>\n",
       "      <td>fair</td>\n",
       "      <td>10.0</td>\n",
       "      <td>0.0</td>\n",
       "      <td>1955.0</td>\n",
       "      <td>0.0</td>\n",
       "      <td>98178.0</td>\n",
       "      <td>47.5112</td>\n",
       "      <td>-122.257</td>\n",
       "      <td>1340.0</td>\n",
       "      <td>5650.0</td>\n",
       "    </tr>\n",
       "    <tr>\n",
       "      <th>1</th>\n",
       "      <td>6774848.0</td>\n",
       "      <td>09 December 2014</td>\n",
       "      <td>538000.0</td>\n",
       "      <td>3.0</td>\n",
       "      <td>2.25</td>\n",
       "      <td>2.0</td>\n",
       "      <td>0.0</td>\n",
       "      <td>0.0</td>\n",
       "      <td>fair</td>\n",
       "      <td>7.0</td>\n",
       "      <td>400.0</td>\n",
       "      <td>1951.0</td>\n",
       "      <td>1991.0</td>\n",
       "      <td>98125.0</td>\n",
       "      <td>47.7210</td>\n",
       "      <td>-122.319</td>\n",
       "      <td>1690.0</td>\n",
       "      <td>7639.0</td>\n",
       "    </tr>\n",
       "    <tr>\n",
       "      <th>2</th>\n",
       "      <td>6999329.0</td>\n",
       "      <td>25 February 2015</td>\n",
       "      <td>180000.0</td>\n",
       "      <td>2.0</td>\n",
       "      <td>1.00</td>\n",
       "      <td>1.0</td>\n",
       "      <td>0.0</td>\n",
       "      <td>0.0</td>\n",
       "      <td>fair</td>\n",
       "      <td>8.0</td>\n",
       "      <td>0.0</td>\n",
       "      <td>1933.0</td>\n",
       "      <td>0.0</td>\n",
       "      <td>98028.0</td>\n",
       "      <td>47.7379</td>\n",
       "      <td>-122.233</td>\n",
       "      <td>2720.0</td>\n",
       "      <td>8062.0</td>\n",
       "    </tr>\n",
       "    <tr>\n",
       "      <th>3</th>\n",
       "      <td>7773052.0</td>\n",
       "      <td>09 December 2014</td>\n",
       "      <td>604000.0</td>\n",
       "      <td>4.0</td>\n",
       "      <td>3.00</td>\n",
       "      <td>1.0</td>\n",
       "      <td>0.0</td>\n",
       "      <td>0.0</td>\n",
       "      <td>excellent</td>\n",
       "      <td>6.0</td>\n",
       "      <td>910.0</td>\n",
       "      <td>1965.0</td>\n",
       "      <td>0.0</td>\n",
       "      <td>98136.0</td>\n",
       "      <td>47.5208</td>\n",
       "      <td>-122.393</td>\n",
       "      <td>1360.0</td>\n",
       "      <td>5000.0</td>\n",
       "    </tr>\n",
       "    <tr>\n",
       "      <th>4</th>\n",
       "      <td>7760818.0</td>\n",
       "      <td>18 February 2015</td>\n",
       "      <td>510000.0</td>\n",
       "      <td>3.0</td>\n",
       "      <td>2.00</td>\n",
       "      <td>1.0</td>\n",
       "      <td>0.0</td>\n",
       "      <td>0.0</td>\n",
       "      <td>fair</td>\n",
       "      <td>6.0</td>\n",
       "      <td>0.0</td>\n",
       "      <td>1987.0</td>\n",
       "      <td>0.0</td>\n",
       "      <td>98074.0</td>\n",
       "      <td>47.6168</td>\n",
       "      <td>-122.045</td>\n",
       "      <td>1800.0</td>\n",
       "      <td>7503.0</td>\n",
       "    </tr>\n",
       "    <tr>\n",
       "      <th>5</th>\n",
       "      <td>7659918.0</td>\n",
       "      <td>12 May 2014</td>\n",
       "      <td>1225000.0</td>\n",
       "      <td>4.0</td>\n",
       "      <td>4.50</td>\n",
       "      <td>1.0</td>\n",
       "      <td>0.0</td>\n",
       "      <td>0.0</td>\n",
       "      <td>fair</td>\n",
       "      <td>8.0</td>\n",
       "      <td>1530.0</td>\n",
       "      <td>2001.0</td>\n",
       "      <td>0.0</td>\n",
       "      <td>98053.0</td>\n",
       "      <td>47.6561</td>\n",
       "      <td>-122.005</td>\n",
       "      <td>4760.0</td>\n",
       "      <td>101930.0</td>\n",
       "    </tr>\n",
       "    <tr>\n",
       "      <th>6</th>\n",
       "      <td>8057033.0</td>\n",
       "      <td>27 June 2014</td>\n",
       "      <td>257500.0</td>\n",
       "      <td>3.0</td>\n",
       "      <td>2.25</td>\n",
       "      <td>2.0</td>\n",
       "      <td>0.0</td>\n",
       "      <td>0.0</td>\n",
       "      <td>FAIR</td>\n",
       "      <td>7.0</td>\n",
       "      <td>0.0</td>\n",
       "      <td>1995.0</td>\n",
       "      <td>0.0</td>\n",
       "      <td>98003.0</td>\n",
       "      <td>47.3097</td>\n",
       "      <td>-122.327</td>\n",
       "      <td>2238.0</td>\n",
       "      <td>6819.0</td>\n",
       "    </tr>\n",
       "    <tr>\n",
       "      <th>7</th>\n",
       "      <td>7249853.0</td>\n",
       "      <td>15 January 2015</td>\n",
       "      <td>291850.0</td>\n",
       "      <td>3.0</td>\n",
       "      <td>1.50</td>\n",
       "      <td>1.0</td>\n",
       "      <td>0.0</td>\n",
       "      <td>0.0</td>\n",
       "      <td>fair</td>\n",
       "      <td>7.0</td>\n",
       "      <td>0.0</td>\n",
       "      <td>1963.0</td>\n",
       "      <td>0.0</td>\n",
       "      <td>98198.0</td>\n",
       "      <td>47.4095</td>\n",
       "      <td>-122.315</td>\n",
       "      <td>1650.0</td>\n",
       "      <td>9711.0</td>\n",
       "    </tr>\n",
       "    <tr>\n",
       "      <th>8</th>\n",
       "      <td>7906980.0</td>\n",
       "      <td>15 April 2015</td>\n",
       "      <td>229500.0</td>\n",
       "      <td>3.0</td>\n",
       "      <td>1.00</td>\n",
       "      <td>1.0</td>\n",
       "      <td>0.0</td>\n",
       "      <td>0.0</td>\n",
       "      <td>FAIR</td>\n",
       "      <td>7.0</td>\n",
       "      <td>730.0</td>\n",
       "      <td>1960.0</td>\n",
       "      <td>0.0</td>\n",
       "      <td>98146.0</td>\n",
       "      <td>47.5123</td>\n",
       "      <td>-122.337</td>\n",
       "      <td>1780.0</td>\n",
       "      <td>8113.0</td>\n",
       "    </tr>\n",
       "    <tr>\n",
       "      <th>9</th>\n",
       "      <td>7605289.0</td>\n",
       "      <td>12 March 2015</td>\n",
       "      <td>323000.0</td>\n",
       "      <td>3.0</td>\n",
       "      <td>2.50</td>\n",
       "      <td>2.0</td>\n",
       "      <td>0.0</td>\n",
       "      <td>0.0</td>\n",
       "      <td>fair</td>\n",
       "      <td>7.0</td>\n",
       "      <td>0.0</td>\n",
       "      <td>2003.0</td>\n",
       "      <td>0.0</td>\n",
       "      <td>98038.0</td>\n",
       "      <td>47.3684</td>\n",
       "      <td>-122.031</td>\n",
       "      <td>2390.0</td>\n",
       "      <td>7570.0</td>\n",
       "    </tr>\n",
       "  </tbody>\n",
       "</table>\n",
       "</div>"
      ],
      "text/plain": [
       "          id              date      price  bedrooms  bathrooms  floors  \\\n",
       "0  7787980.0   13 October 2014   221900.0       3.0       1.00     1.0   \n",
       "1  6774848.0  09 December 2014   538000.0       3.0       2.25     2.0   \n",
       "2  6999329.0  25 February 2015   180000.0       2.0       1.00     1.0   \n",
       "3  7773052.0  09 December 2014   604000.0       4.0       3.00     1.0   \n",
       "4  7760818.0  18 February 2015   510000.0       3.0       2.00     1.0   \n",
       "5  7659918.0       12 May 2014  1225000.0       4.0       4.50     1.0   \n",
       "6  8057033.0      27 June 2014   257500.0       3.0       2.25     2.0   \n",
       "7  7249853.0   15 January 2015   291850.0       3.0       1.50     1.0   \n",
       "8  7906980.0     15 April 2015   229500.0       3.0       1.00     1.0   \n",
       "9  7605289.0     12 March 2015   323000.0       3.0       2.50     2.0   \n",
       "\n",
       "   waterfront  view  condition  review_score  basement_size   built  \\\n",
       "0         0.0   0.0       fair          10.0            0.0  1955.0   \n",
       "1         0.0   0.0       fair           7.0          400.0  1951.0   \n",
       "2         0.0   0.0       fair           8.0            0.0  1933.0   \n",
       "3         0.0   0.0  excellent           6.0          910.0  1965.0   \n",
       "4         0.0   0.0       fair           6.0            0.0  1987.0   \n",
       "5         0.0   0.0       fair           8.0         1530.0  2001.0   \n",
       "6         0.0   0.0       FAIR           7.0            0.0  1995.0   \n",
       "7         0.0   0.0       fair           7.0            0.0  1963.0   \n",
       "8         0.0   0.0       FAIR           7.0          730.0  1960.0   \n",
       "9         0.0   0.0       fair           7.0            0.0  2003.0   \n",
       "\n",
       "   renovation  zipcode  latitude  longitude  living_room_size  lot_size  \n",
       "0         0.0  98178.0   47.5112   -122.257            1340.0    5650.0  \n",
       "1      1991.0  98125.0   47.7210   -122.319            1690.0    7639.0  \n",
       "2         0.0  98028.0   47.7379   -122.233            2720.0    8062.0  \n",
       "3         0.0  98136.0   47.5208   -122.393            1360.0    5000.0  \n",
       "4         0.0  98074.0   47.6168   -122.045            1800.0    7503.0  \n",
       "5         0.0  98053.0   47.6561   -122.005            4760.0  101930.0  \n",
       "6         0.0  98003.0   47.3097   -122.327            2238.0    6819.0  \n",
       "7         0.0  98198.0   47.4095   -122.315            1650.0    9711.0  \n",
       "8         0.0  98146.0   47.5123   -122.337            1780.0    8113.0  \n",
       "9         0.0  98038.0   47.3684   -122.031            2390.0    7570.0  "
      ]
     },
     "execution_count": 92,
     "metadata": {},
     "output_type": "execute_result"
    }
   ],
   "source": [
    "# Making a connection to the database file.\n",
    "# Assign our data & read sqlite query results into a pandas DataFrame.\n",
    "\n",
    "db = sql.connect('home_sales.db') \n",
    "\n",
    "df1 = pd.read_sql_query('SELECT * FROM sales', db) # Selecting all or everything from the database table named as sales.\n",
    "\n",
    "# Verifying / Previewing our data to ascertain that it can be loaded properly for subsequent work to be further carried out.\n",
    "\n",
    "df1.head(10) # To display the first 10 records of the dataframe i called df1. Note : by default will show first 5 only."
   ]
  },
  {
   "cell_type": "markdown",
   "metadata": {},
   "source": [
    "# <font color = red>(2) <font size = 8>S</font>CRUBBING / CLEANING DATA according to the <font color = blue>O.<font size = 8>S</font>.E.M.N.</font> Framework.</font> (Also known as PreProcessing to many others)"
   ]
  },
  {
   "cell_type": "code",
   "execution_count": 72,
   "metadata": {},
   "outputs": [
    {
     "data": {
      "text/plain": [
       "(23154, 18)"
      ]
     },
     "execution_count": 72,
     "metadata": {},
     "output_type": "execute_result"
    }
   ],
   "source": [
    "# Lets start the preprocessing by knowing our newly obtained data a little better.\n",
    "\n",
    "df1.shape"
   ]
  },
  {
   "cell_type": "code",
   "execution_count": 73,
   "metadata": {},
   "outputs": [
    {
     "name": "stdout",
     "output_type": "stream",
     "text": [
      "<class 'pandas.core.frame.DataFrame'>\n",
      "RangeIndex: 23154 entries, 0 to 23153\n",
      "Data columns (total 18 columns):\n",
      " #   Column            Non-Null Count  Dtype  \n",
      "---  ------            --------------  -----  \n",
      " 0   id                21871 non-null  float64\n",
      " 1   date              21925 non-null  object \n",
      " 2   price             21896 non-null  float64\n",
      " 3   bedrooms          21905 non-null  float64\n",
      " 4   bathrooms         21938 non-null  float64\n",
      " 5   floors            21862 non-null  float64\n",
      " 6   waterfront        21871 non-null  float64\n",
      " 7   view              21908 non-null  float64\n",
      " 8   condition         21890 non-null  object \n",
      " 9   review_score      21851 non-null  float64\n",
      " 10  basement_size     21929 non-null  float64\n",
      " 11  built             21853 non-null  float64\n",
      " 12  renovation        21897 non-null  float64\n",
      " 13  zipcode           21884 non-null  float64\n",
      " 14  latitude          21903 non-null  float64\n",
      " 15  longitude         21883 non-null  float64\n",
      " 16  living_room_size  21912 non-null  float64\n",
      " 17  lot_size          21932 non-null  float64\n",
      "dtypes: float64(16), object(2)\n",
      "memory usage: 3.2+ MB\n"
     ]
    }
   ],
   "source": [
    "# Great! I now know that there are 23154 records with 18 columns of features relating to these house sales transactions.\n",
    "# I noticed from the first few lines of records that there are some non-numerical inputs. Let's explore the summary briefly.\n",
    "\n",
    "df1.info() # To draw a brief summary of the dataframe."
   ]
  },
  {
   "cell_type": "code",
   "execution_count": 74,
   "metadata": {},
   "outputs": [
    {
     "data": {
      "text/plain": [
       "id                  1283\n",
       "date                1229\n",
       "price               1258\n",
       "bedrooms            1249\n",
       "bathrooms           1216\n",
       "floors              1292\n",
       "waterfront          1283\n",
       "view                1246\n",
       "condition           1264\n",
       "review_score        1303\n",
       "basement_size       1225\n",
       "built               1301\n",
       "renovation          1257\n",
       "zipcode             1270\n",
       "latitude            1251\n",
       "longitude           1271\n",
       "living_room_size    1242\n",
       "lot_size            1222\n",
       "dtype: int64"
      ]
     },
     "execution_count": 74,
     "metadata": {},
     "output_type": "execute_result"
    }
   ],
   "source": [
    "# Ok, i think i will do something later to the date & condition columns. I noticed many null values! Let's check that again.\n",
    "\n",
    "df.isna().sum() # This will return the actual total number of NaNs or null values in each column."
   ]
  },
  {
   "cell_type": "code",
   "execution_count": 78,
   "metadata": {},
   "outputs": [
    {
     "data": {
      "text/plain": [
       "array(['fair', 'excellent', 'FAIR', 'good', 'TERRIBLE', 'poor', None,\n",
       "       'GOOD', 'EXCELLENT', 'terrible', 'POOR'], dtype=object)"
      ]
     },
     "execution_count": 78,
     "metadata": {},
     "output_type": "execute_result"
    }
   ],
   "source": [
    "# There are many NaN values in our dataset. Dropping the rows that contain NA values would badly shrink our working dataset.\n",
    "# So, let's begin dealing with the missing/null values which will always be the first steps we take to scrub data clean.\n",
    "# To begin the process of replacing null values, i will change the condition column from string to numerical inputs.\n",
    "\n",
    "df1['condition'].unique() # Uniquely identify all the various kinds of house conditions."
   ]
  },
  {
   "cell_type": "code",
   "execution_count": 79,
   "metadata": {},
   "outputs": [],
   "source": [
    "df2 = df1.copy() # Retaining df1 as the original dataset before making any changes to the data."
   ]
  },
  {
   "cell_type": "code",
   "execution_count": 83,
   "metadata": {},
   "outputs": [
    {
     "data": {
      "text/html": [
       "<div>\n",
       "<style scoped>\n",
       "    .dataframe tbody tr th:only-of-type {\n",
       "        vertical-align: middle;\n",
       "    }\n",
       "\n",
       "    .dataframe tbody tr th {\n",
       "        vertical-align: top;\n",
       "    }\n",
       "\n",
       "    .dataframe thead th {\n",
       "        text-align: right;\n",
       "    }\n",
       "</style>\n",
       "<table border=\"1\" class=\"dataframe\">\n",
       "  <thead>\n",
       "    <tr style=\"text-align: right;\">\n",
       "      <th></th>\n",
       "      <th>id</th>\n",
       "      <th>date</th>\n",
       "      <th>price</th>\n",
       "      <th>bedrooms</th>\n",
       "      <th>bathrooms</th>\n",
       "      <th>floors</th>\n",
       "      <th>waterfront</th>\n",
       "      <th>view</th>\n",
       "      <th>condition</th>\n",
       "      <th>review_score</th>\n",
       "      <th>basement_size</th>\n",
       "      <th>built</th>\n",
       "      <th>renovation</th>\n",
       "      <th>zipcode</th>\n",
       "      <th>latitude</th>\n",
       "      <th>longitude</th>\n",
       "      <th>living_room_size</th>\n",
       "      <th>lot_size</th>\n",
       "    </tr>\n",
       "  </thead>\n",
       "  <tbody>\n",
       "    <tr>\n",
       "      <th>0</th>\n",
       "      <td>7787980.0</td>\n",
       "      <td>13 October 2014</td>\n",
       "      <td>221900.0</td>\n",
       "      <td>3.0</td>\n",
       "      <td>1.00</td>\n",
       "      <td>1.0</td>\n",
       "      <td>0.0</td>\n",
       "      <td>0.0</td>\n",
       "      <td>3.0</td>\n",
       "      <td>10.0</td>\n",
       "      <td>0.0</td>\n",
       "      <td>1955.0</td>\n",
       "      <td>0.0</td>\n",
       "      <td>98178.0</td>\n",
       "      <td>47.5112</td>\n",
       "      <td>-122.257</td>\n",
       "      <td>1340.0</td>\n",
       "      <td>5650.0</td>\n",
       "    </tr>\n",
       "    <tr>\n",
       "      <th>1</th>\n",
       "      <td>6774848.0</td>\n",
       "      <td>09 December 2014</td>\n",
       "      <td>538000.0</td>\n",
       "      <td>3.0</td>\n",
       "      <td>2.25</td>\n",
       "      <td>2.0</td>\n",
       "      <td>0.0</td>\n",
       "      <td>0.0</td>\n",
       "      <td>3.0</td>\n",
       "      <td>7.0</td>\n",
       "      <td>400.0</td>\n",
       "      <td>1951.0</td>\n",
       "      <td>1991.0</td>\n",
       "      <td>98125.0</td>\n",
       "      <td>47.7210</td>\n",
       "      <td>-122.319</td>\n",
       "      <td>1690.0</td>\n",
       "      <td>7639.0</td>\n",
       "    </tr>\n",
       "    <tr>\n",
       "      <th>2</th>\n",
       "      <td>6999329.0</td>\n",
       "      <td>25 February 2015</td>\n",
       "      <td>180000.0</td>\n",
       "      <td>2.0</td>\n",
       "      <td>1.00</td>\n",
       "      <td>1.0</td>\n",
       "      <td>0.0</td>\n",
       "      <td>0.0</td>\n",
       "      <td>3.0</td>\n",
       "      <td>8.0</td>\n",
       "      <td>0.0</td>\n",
       "      <td>1933.0</td>\n",
       "      <td>0.0</td>\n",
       "      <td>98028.0</td>\n",
       "      <td>47.7379</td>\n",
       "      <td>-122.233</td>\n",
       "      <td>2720.0</td>\n",
       "      <td>8062.0</td>\n",
       "    </tr>\n",
       "    <tr>\n",
       "      <th>3</th>\n",
       "      <td>7773052.0</td>\n",
       "      <td>09 December 2014</td>\n",
       "      <td>604000.0</td>\n",
       "      <td>4.0</td>\n",
       "      <td>3.00</td>\n",
       "      <td>1.0</td>\n",
       "      <td>0.0</td>\n",
       "      <td>0.0</td>\n",
       "      <td>5.0</td>\n",
       "      <td>6.0</td>\n",
       "      <td>910.0</td>\n",
       "      <td>1965.0</td>\n",
       "      <td>0.0</td>\n",
       "      <td>98136.0</td>\n",
       "      <td>47.5208</td>\n",
       "      <td>-122.393</td>\n",
       "      <td>1360.0</td>\n",
       "      <td>5000.0</td>\n",
       "    </tr>\n",
       "    <tr>\n",
       "      <th>4</th>\n",
       "      <td>7760818.0</td>\n",
       "      <td>18 February 2015</td>\n",
       "      <td>510000.0</td>\n",
       "      <td>3.0</td>\n",
       "      <td>2.00</td>\n",
       "      <td>1.0</td>\n",
       "      <td>0.0</td>\n",
       "      <td>0.0</td>\n",
       "      <td>3.0</td>\n",
       "      <td>6.0</td>\n",
       "      <td>0.0</td>\n",
       "      <td>1987.0</td>\n",
       "      <td>0.0</td>\n",
       "      <td>98074.0</td>\n",
       "      <td>47.6168</td>\n",
       "      <td>-122.045</td>\n",
       "      <td>1800.0</td>\n",
       "      <td>7503.0</td>\n",
       "    </tr>\n",
       "  </tbody>\n",
       "</table>\n",
       "</div>"
      ],
      "text/plain": [
       "          id              date     price  bedrooms  bathrooms  floors  \\\n",
       "0  7787980.0   13 October 2014  221900.0       3.0       1.00     1.0   \n",
       "1  6774848.0  09 December 2014  538000.0       3.0       2.25     2.0   \n",
       "2  6999329.0  25 February 2015  180000.0       2.0       1.00     1.0   \n",
       "3  7773052.0  09 December 2014  604000.0       4.0       3.00     1.0   \n",
       "4  7760818.0  18 February 2015  510000.0       3.0       2.00     1.0   \n",
       "\n",
       "   waterfront  view  condition  review_score  basement_size   built  \\\n",
       "0         0.0   0.0        3.0          10.0            0.0  1955.0   \n",
       "1         0.0   0.0        3.0           7.0          400.0  1951.0   \n",
       "2         0.0   0.0        3.0           8.0            0.0  1933.0   \n",
       "3         0.0   0.0        5.0           6.0          910.0  1965.0   \n",
       "4         0.0   0.0        3.0           6.0            0.0  1987.0   \n",
       "\n",
       "   renovation  zipcode  latitude  longitude  living_room_size  lot_size  \n",
       "0         0.0  98178.0   47.5112   -122.257            1340.0    5650.0  \n",
       "1      1991.0  98125.0   47.7210   -122.319            1690.0    7639.0  \n",
       "2         0.0  98028.0   47.7379   -122.233            2720.0    8062.0  \n",
       "3         0.0  98136.0   47.5208   -122.393            1360.0    5000.0  \n",
       "4         0.0  98074.0   47.6168   -122.045            1800.0    7503.0  "
      ]
     },
     "execution_count": 83,
     "metadata": {},
     "output_type": "execute_result"
    }
   ],
   "source": [
    "# To change the condition column into numerical values so as to facilitate replacing of null values later with its own mean.\n",
    "\n",
    "df2['condition'].replace(['fair', 'excellent', 'FAIR', 'good', 'TERRIBLE', 'poor', \n",
    "                                'GOOD', 'EXCELLENT', 'terrible', 'POOR'],[3,5,3,4,1,2,4,5,1,2], inplace = True)\n",
    "\n",
    "df2.head() # To show the first 5 rows of the dataframe i now called df2. Condition column will be changed to numerical values."
   ]
  },
  {
   "cell_type": "code",
   "execution_count": 84,
   "metadata": {},
   "outputs": [
    {
     "data": {
      "text/plain": [
       "count    21890.000000\n",
       "mean         3.408908\n",
       "std          0.650519\n",
       "min          1.000000\n",
       "25%          3.000000\n",
       "50%          3.000000\n",
       "75%          4.000000\n",
       "max          5.000000\n",
       "Name: condition, dtype: float64"
      ]
     },
     "execution_count": 84,
     "metadata": {},
     "output_type": "execute_result"
    }
   ],
   "source": [
    "df2['condition'].describe() # This function describes the summary statistics of the data residing inside the condition column."
   ]
  },
  {
   "cell_type": "code",
   "execution_count": 85,
   "metadata": {},
   "outputs": [
    {
     "data": {
      "text/plain": [
       "3.0    14211\n",
       "4.0     5757\n",
       "5.0     1716\n",
       "2.0      174\n",
       "1.0       32\n",
       "Name: condition, dtype: int64"
      ]
     },
     "execution_count": 85,
     "metadata": {},
     "output_type": "execute_result"
    }
   ],
   "source": [
    "df2['condition'].value_counts() # This function will keep track of the count for each type of house conditions."
   ]
  },
  {
   "cell_type": "code",
   "execution_count": 88,
   "metadata": {},
   "outputs": [
    {
     "data": {
      "text/html": [
       "<div>\n",
       "<style scoped>\n",
       "    .dataframe tbody tr th:only-of-type {\n",
       "        vertical-align: middle;\n",
       "    }\n",
       "\n",
       "    .dataframe tbody tr th {\n",
       "        vertical-align: top;\n",
       "    }\n",
       "\n",
       "    .dataframe thead th {\n",
       "        text-align: right;\n",
       "    }\n",
       "</style>\n",
       "<table border=\"1\" class=\"dataframe\">\n",
       "  <thead>\n",
       "    <tr style=\"text-align: right;\">\n",
       "      <th></th>\n",
       "      <th>id</th>\n",
       "      <th>date</th>\n",
       "      <th>price</th>\n",
       "      <th>bedrooms</th>\n",
       "      <th>bathrooms</th>\n",
       "      <th>floors</th>\n",
       "      <th>waterfront</th>\n",
       "      <th>view</th>\n",
       "      <th>condition</th>\n",
       "      <th>review_score</th>\n",
       "      <th>basement_size</th>\n",
       "      <th>built</th>\n",
       "      <th>renovation</th>\n",
       "      <th>zipcode</th>\n",
       "      <th>latitude</th>\n",
       "      <th>longitude</th>\n",
       "      <th>living_room_size</th>\n",
       "      <th>lot_size</th>\n",
       "    </tr>\n",
       "  </thead>\n",
       "  <tbody>\n",
       "    <tr>\n",
       "      <th>23149</th>\n",
       "      <td>7681392.0</td>\n",
       "      <td>30 September 2014</td>\n",
       "      <td>455000.0</td>\n",
       "      <td>2.0</td>\n",
       "      <td>1.75</td>\n",
       "      <td>1.0</td>\n",
       "      <td>0.0</td>\n",
       "      <td>0.0</td>\n",
       "      <td>3.0</td>\n",
       "      <td>6.0</td>\n",
       "      <td>0.0</td>\n",
       "      <td>2004.0</td>\n",
       "      <td>0.0</td>\n",
       "      <td>98053.0</td>\n",
       "      <td>47.7171</td>\n",
       "      <td>-122.033</td>\n",
       "      <td>1440.0</td>\n",
       "      <td>4839.0</td>\n",
       "    </tr>\n",
       "    <tr>\n",
       "      <th>23150</th>\n",
       "      <td>6990763.0</td>\n",
       "      <td>24 October 2014</td>\n",
       "      <td>239000.0</td>\n",
       "      <td>3.0</td>\n",
       "      <td>1.50</td>\n",
       "      <td>1.0</td>\n",
       "      <td>0.0</td>\n",
       "      <td>0.0</td>\n",
       "      <td>3.0</td>\n",
       "      <td>NaN</td>\n",
       "      <td>430.0</td>\n",
       "      <td>1971.0</td>\n",
       "      <td>0.0</td>\n",
       "      <td>98188.0</td>\n",
       "      <td>47.4239</td>\n",
       "      <td>-122.292</td>\n",
       "      <td>1400.0</td>\n",
       "      <td>11500.0</td>\n",
       "    </tr>\n",
       "    <tr>\n",
       "      <th>23151</th>\n",
       "      <td>7261690.0</td>\n",
       "      <td>13 April 2015</td>\n",
       "      <td>179000.0</td>\n",
       "      <td>2.0</td>\n",
       "      <td>1.00</td>\n",
       "      <td>1.0</td>\n",
       "      <td>0.0</td>\n",
       "      <td>0.0</td>\n",
       "      <td>3.0</td>\n",
       "      <td>11.0</td>\n",
       "      <td>0.0</td>\n",
       "      <td>1949.0</td>\n",
       "      <td>0.0</td>\n",
       "      <td>98188.0</td>\n",
       "      <td>47.4488</td>\n",
       "      <td>-122.274</td>\n",
       "      <td>1100.0</td>\n",
       "      <td>8916.0</td>\n",
       "    </tr>\n",
       "    <tr>\n",
       "      <th>23152</th>\n",
       "      <td>6844960.0</td>\n",
       "      <td>04 May 2015</td>\n",
       "      <td>450000.0</td>\n",
       "      <td>3.0</td>\n",
       "      <td>1.00</td>\n",
       "      <td>1.5</td>\n",
       "      <td>0.0</td>\n",
       "      <td>0.0</td>\n",
       "      <td>4.0</td>\n",
       "      <td>7.0</td>\n",
       "      <td>0.0</td>\n",
       "      <td>1917.0</td>\n",
       "      <td>0.0</td>\n",
       "      <td>98118.0</td>\n",
       "      <td>47.5620</td>\n",
       "      <td>-122.289</td>\n",
       "      <td>1140.0</td>\n",
       "      <td>3960.0</td>\n",
       "    </tr>\n",
       "    <tr>\n",
       "      <th>23153</th>\n",
       "      <td>NaN</td>\n",
       "      <td>12 September 2014</td>\n",
       "      <td>895000.0</td>\n",
       "      <td>4.0</td>\n",
       "      <td>NaN</td>\n",
       "      <td>2.0</td>\n",
       "      <td>NaN</td>\n",
       "      <td>NaN</td>\n",
       "      <td>3.0</td>\n",
       "      <td>7.0</td>\n",
       "      <td>910.0</td>\n",
       "      <td>NaN</td>\n",
       "      <td>0.0</td>\n",
       "      <td>98115.0</td>\n",
       "      <td>47.6727</td>\n",
       "      <td>NaN</td>\n",
       "      <td>1530.0</td>\n",
       "      <td>NaN</td>\n",
       "    </tr>\n",
       "  </tbody>\n",
       "</table>\n",
       "</div>"
      ],
      "text/plain": [
       "              id               date     price  bedrooms  bathrooms  floors  \\\n",
       "23149  7681392.0  30 September 2014  455000.0       2.0       1.75     1.0   \n",
       "23150  6990763.0    24 October 2014  239000.0       3.0       1.50     1.0   \n",
       "23151  7261690.0      13 April 2015  179000.0       2.0       1.00     1.0   \n",
       "23152  6844960.0        04 May 2015  450000.0       3.0       1.00     1.5   \n",
       "23153        NaN  12 September 2014  895000.0       4.0        NaN     2.0   \n",
       "\n",
       "       waterfront  view  condition  review_score  basement_size   built  \\\n",
       "23149         0.0   0.0        3.0           6.0            0.0  2004.0   \n",
       "23150         0.0   0.0        3.0           NaN          430.0  1971.0   \n",
       "23151         0.0   0.0        3.0          11.0            0.0  1949.0   \n",
       "23152         0.0   0.0        4.0           7.0            0.0  1917.0   \n",
       "23153         NaN   NaN        3.0           7.0          910.0     NaN   \n",
       "\n",
       "       renovation  zipcode  latitude  longitude  living_room_size  lot_size  \n",
       "23149         0.0  98053.0   47.7171   -122.033            1440.0    4839.0  \n",
       "23150         0.0  98188.0   47.4239   -122.292            1400.0   11500.0  \n",
       "23151         0.0  98188.0   47.4488   -122.274            1100.0    8916.0  \n",
       "23152         0.0  98118.0   47.5620   -122.289            1140.0    3960.0  \n",
       "23153         0.0  98115.0   47.6727        NaN            1530.0       NaN  "
      ]
     },
     "execution_count": 88,
     "metadata": {},
     "output_type": "execute_result"
    }
   ],
   "source": [
    "df3 = df2.copy() # Securing df2 as the last original dataset before making any further changes to the data.\n",
    "\n",
    "# Replacing null or NaN values inside condition column with its very own median number.\n",
    "\n",
    "df3.condition = df3.condition.fillna(value=df3.condition.median())\n",
    "\n",
    "df3.tail() # To display the last 5 records of the dataframe i now called df3. Note : by default will show bottom 5 only."
   ]
  },
  {
   "cell_type": "code",
   "execution_count": 89,
   "metadata": {},
   "outputs": [
    {
     "data": {
      "text/plain": [
       "id                  1283\n",
       "date                1229\n",
       "price               1258\n",
       "bedrooms            1249\n",
       "bathrooms           1216\n",
       "floors              1292\n",
       "waterfront          1283\n",
       "view                1246\n",
       "condition              0\n",
       "review_score        1303\n",
       "basement_size       1225\n",
       "built               1301\n",
       "renovation          1257\n",
       "zipcode             1270\n",
       "latitude            1251\n",
       "longitude           1271\n",
       "living_room_size    1242\n",
       "lot_size            1222\n",
       "dtype: int64"
      ]
     },
     "execution_count": 89,
     "metadata": {},
     "output_type": "execute_result"
    }
   ],
   "source": [
    "df3.isna().sum() # Returns the latest total number of null values in each column. Note : condition column has NO NaN value now."
   ]
  },
  {
   "cell_type": "code",
   "execution_count": 90,
   "metadata": {},
   "outputs": [
    {
     "data": {
      "text/plain": [
       "3.0    15475\n",
       "4.0     5757\n",
       "5.0     1716\n",
       "2.0      174\n",
       "1.0       32\n",
       "Name: condition, dtype: int64"
      ]
     },
     "execution_count": 90,
     "metadata": {},
     "output_type": "execute_result"
    }
   ],
   "source": [
    "df3.condition.value_counts() # Checking the count shows 23154 being tally. ((14211 + 1264 = 15475) + 5757 + 1716 + 174 + 32)."
   ]
  },
  {
   "cell_type": "code",
   "execution_count": 91,
   "metadata": {},
   "outputs": [
    {
     "name": "stdout",
     "output_type": "stream",
     "text": [
      "<class 'pandas.core.frame.DataFrame'>\n",
      "RangeIndex: 23154 entries, 0 to 23153\n",
      "Data columns (total 18 columns):\n",
      " #   Column            Non-Null Count  Dtype  \n",
      "---  ------            --------------  -----  \n",
      " 0   id                21871 non-null  float64\n",
      " 1   date              21925 non-null  object \n",
      " 2   price             21896 non-null  float64\n",
      " 3   bedrooms          21905 non-null  float64\n",
      " 4   bathrooms         21938 non-null  float64\n",
      " 5   floors            21862 non-null  float64\n",
      " 6   waterfront        21871 non-null  float64\n",
      " 7   view              21908 non-null  float64\n",
      " 8   condition         23154 non-null  float64\n",
      " 9   review_score      21851 non-null  float64\n",
      " 10  basement_size     21929 non-null  float64\n",
      " 11  built             21853 non-null  float64\n",
      " 12  renovation        21897 non-null  float64\n",
      " 13  zipcode           21884 non-null  float64\n",
      " 14  latitude          21903 non-null  float64\n",
      " 15  longitude         21883 non-null  float64\n",
      " 16  living_room_size  21912 non-null  float64\n",
      " 17  lot_size          21932 non-null  float64\n",
      "dtypes: float64(17), object(1)\n",
      "memory usage: 3.2+ MB\n"
     ]
    }
   ],
   "source": [
    "df3.info() # All 23154 entries under the condition column is now confirmed as being converted into float datatype."
   ]
  },
  {
   "cell_type": "code",
   "execution_count": 116,
   "metadata": {},
   "outputs": [],
   "source": [
    "df4 = df3.copy() # Securing df3 as the last original dataset before making any further changes to the data."
   ]
  },
  {
   "cell_type": "code",
   "execution_count": 120,
   "metadata": {},
   "outputs": [],
   "source": [
    "# In any legitimate house transactions it is imperative to have proper filing records & they are tagged to unique id numbers. \n",
    "# Also, it is impossible to replace real id by using mean nor median nor ffill nor bfill because every id is unique.\n",
    "# I'm going to drop entries that do not have proper id numbers as they can be deemed as improperly submitted transactions.\n",
    "\n",
    "df4.dropna(subset=['id'], inplace=True)"
   ]
  },
  {
   "cell_type": "code",
   "execution_count": 122,
   "metadata": {},
   "outputs": [
    {
     "data": {
      "text/plain": [
       "id                     0\n",
       "date                 552\n",
       "price                582\n",
       "bedrooms             596\n",
       "bathrooms            570\n",
       "floors               585\n",
       "waterfront           590\n",
       "view                 570\n",
       "condition              0\n",
       "review_score        1236\n",
       "basement_size        569\n",
       "built                619\n",
       "renovation           585\n",
       "zipcode              571\n",
       "latitude             574\n",
       "longitude            597\n",
       "living_room_size     561\n",
       "lot_size             539\n",
       "dtype: int64"
      ]
     },
     "execution_count": 122,
     "metadata": {},
     "output_type": "execute_result"
    }
   ],
   "source": [
    "df4.isna().sum() # Returns the latest total number of NaNs in each column. Note : most columns have much lesser NaNs now."
   ]
  },
  {
   "cell_type": "code",
   "execution_count": 123,
   "metadata": {},
   "outputs": [],
   "source": [
    "# In any legal official property transactions it is only logical to state the actual sold prices or transacted prices. \n",
    "# Afterall, what we are trying to attempt here is utilising other similar property's sold pricings to predict possible prices. \n",
    "# Henceforth, I'm going to drop entries that did not submit or file for their sold pricies.\n",
    "\n",
    "df4.dropna(subset=['price'], inplace=True)"
   ]
  },
  {
   "cell_type": "code",
   "execution_count": 125,
   "metadata": {},
   "outputs": [
    {
     "data": {
      "text/plain": [
       "id                     0\n",
       "date                 244\n",
       "price                  0\n",
       "bedrooms             259\n",
       "bathrooms            254\n",
       "floors               256\n",
       "waterfront           269\n",
       "view                 245\n",
       "condition              0\n",
       "review_score        1200\n",
       "basement_size        252\n",
       "built                286\n",
       "renovation           251\n",
       "zipcode              245\n",
       "latitude             247\n",
       "longitude            260\n",
       "living_room_size     255\n",
       "lot_size             240\n",
       "dtype: int64"
      ]
     },
     "execution_count": 125,
     "metadata": {},
     "output_type": "execute_result"
    }
   ],
   "source": [
    "df4.isna().sum() # Returns the latest total number of NaNs in each column. Most columns have now halved the number of NaNs."
   ]
  },
  {
   "cell_type": "code",
   "execution_count": 126,
   "metadata": {},
   "outputs": [
    {
     "data": {
      "text/plain": [
       "(21289, 18)"
      ]
     },
     "execution_count": 126,
     "metadata": {},
     "output_type": "execute_result"
    }
   ],
   "source": [
    "df4.shape"
   ]
  },
  {
   "cell_type": "code",
   "execution_count": 127,
   "metadata": {},
   "outputs": [],
   "source": [
    "df5 = df4.copy() # Securing df4 as the last original dataset before any further workings on the data."
   ]
  },
  {
   "cell_type": "code",
   "execution_count": 128,
   "metadata": {},
   "outputs": [
    {
     "data": {
      "text/plain": [
       "(21289, 16)"
      ]
     },
     "execution_count": 128,
     "metadata": {},
     "output_type": "execute_result"
    }
   ],
   "source": [
    "# As said at the start i will be dealing with both the condition column & the date column. \n",
    "# I am dropping the id and date columns as i believe these 2 columns are not going to be effective in our modelling later.\n",
    "# Afterall, the property firm will not be asking their clients what id & date preferences in picking their ideal house to buy.\n",
    "\n",
    "df5 = df4.drop(['id','date'], axis='columns')\n",
    "df5.shape"
   ]
  },
  {
   "cell_type": "code",
   "execution_count": 129,
   "metadata": {},
   "outputs": [
    {
     "data": {
      "text/plain": [
       "count    21030.000000\n",
       "mean         3.370281\n",
       "std          0.906322\n",
       "min          0.000000\n",
       "25%          3.000000\n",
       "50%          3.000000\n",
       "75%          4.000000\n",
       "max         11.000000\n",
       "Name: bedrooms, dtype: float64"
      ]
     },
     "execution_count": 129,
     "metadata": {},
     "output_type": "execute_result"
    }
   ],
   "source": [
    "# Let's continue to deal with the Null values. Next on the list will be the bedrooms column.\n",
    "\n",
    "df5.bedrooms.describe() # This fuction gives us summary statistics for the bedrooms column."
   ]
  },
  {
   "cell_type": "code",
   "execution_count": 130,
   "metadata": {},
   "outputs": [
    {
     "data": {
      "text/plain": [
       "array([ 3.,  2.,  4.,  5., nan,  6.,  1.,  7.,  0.,  8.,  9., 11., 10.])"
      ]
     },
     "execution_count": 130,
     "metadata": {},
     "output_type": "execute_result"
    }
   ],
   "source": [
    "df5['bedrooms'].unique() # Uniquely show all the various bedrooms types. Notice the max is 11 bedrooms? Need to investigate."
   ]
  },
  {
   "cell_type": "code",
   "execution_count": 171,
   "metadata": {},
   "outputs": [
    {
     "data": {
      "text/plain": [
       "3.0     9565\n",
       "4.0     6709\n",
       "2.0     2678\n",
       "5.0     1562\n",
       "6.0      253\n",
       "1.0      190\n",
       "7.0       41\n",
       "8.0       11\n",
       "0.0       11\n",
       "9.0        5\n",
       "10.0       3\n",
       "11.0       2\n",
       "Name: bedrooms, dtype: int64"
      ]
     },
     "execution_count": 171,
     "metadata": {},
     "output_type": "execute_result"
    }
   ],
   "source": [
    "df5.bedrooms.value_counts() # Show popularity level of bedrooms types. Note : there might be outliers with so many bedrooms."
   ]
  },
  {
   "cell_type": "code",
   "execution_count": 172,
   "metadata": {},
   "outputs": [
    {
     "data": {
      "text/plain": [
       "<matplotlib.axes._subplots.AxesSubplot at 0x17fe548fac8>"
      ]
     },
     "execution_count": 172,
     "metadata": {},
     "output_type": "execute_result"
    },
    {
     "data": {
      "image/png": "[encoded data removed]",
      "text/plain": [
       "<Figure size 432x288 with 1 Axes>"
      ]
     },
     "metadata": {
      "needs_background": "light"
     },
     "output_type": "display_data"
    }
   ],
   "source": [
    "sns.countplot(df5.bedrooms,order=df5['bedrooms'].value_counts().index) # Graphical countplot representation is nice to look at."
   ]
  },
  {
   "cell_type": "code",
   "execution_count": 160,
   "metadata": {},
   "outputs": [
    {
     "data": {
      "text/plain": [
       "8757     11.0\n",
       "22641    11.0\n",
       "15161    10.0\n",
       "19254    10.0\n",
       "13314    10.0\n",
       "4235      9.0\n",
       "4096      9.0\n",
       "16844     9.0\n",
       "8546      9.0\n",
       "18443     9.0\n",
       "Name: bedrooms, dtype: float64"
      ]
     },
     "execution_count": 160,
     "metadata": {},
     "output_type": "execute_result"
    }
   ],
   "source": [
    "# let's examine the top few highest numbers of bedrooms types starting from the 11 bedrooms type in descending order.\n",
    "\n",
    "df5.bedrooms.sort_values(ascending = False).head(10) # This allow us to pin-point exactly where are the top 10 outliers."
   ]
  },
  {
   "cell_type": "code",
   "execution_count": 159,
   "metadata": {},
   "outputs": [
    {
     "name": "stdout",
     "output_type": "stream",
     "text": [
      "         price  bedrooms  bathrooms  floors  waterfront  view  condition  \\\n",
      "8757  520000.0      11.0        3.0     2.0         0.0   0.0        3.0   \n",
      "\n",
      "      review_score  basement_size   built  renovation  zipcode  latitude  \\\n",
      "8757          10.0          600.0  1918.0      1999.0  98106.0    47.556   \n",
      "\n",
      "      longitude  living_room_size  lot_size  \n",
      "8757   -122.363            1420.0    4960.0  \n",
      "          price  bedrooms  bathrooms  floors  waterfront  view  condition  \\\n",
      "22641  520000.0      11.0        3.0     2.0         0.0   0.0        3.0   \n",
      "\n",
      "       review_score  basement_size   built  renovation  zipcode  latitude  \\\n",
      "22641           NaN          600.0  1918.0      1999.0  98106.0    47.556   \n",
      "\n",
      "       longitude  living_room_size  lot_size  \n",
      "22641   -122.363            1420.0    4960.0  \n",
      "          price  bedrooms  bathrooms  floors  waterfront  view  condition  \\\n",
      "15161  650000.0      10.0        2.0     2.0         0.0   0.0        4.0   \n",
      "\n",
      "       review_score  basement_size   built  renovation  zipcode  latitude  \\\n",
      "15161           8.0          600.0  1958.0         0.0  98006.0   47.5705   \n",
      "\n",
      "       longitude  living_room_size  lot_size  \n",
      "15161   -122.175            2040.0   11914.0  \n",
      "          price  bedrooms  bathrooms  floors  waterfront  view  condition  \\\n",
      "19254  660000.0      10.0        3.0     2.0         0.0   0.0        4.0   \n",
      "\n",
      "       review_score  basement_size   built  renovation  zipcode  latitude  \\\n",
      "19254           6.0         1060.0  1913.0         0.0  98105.0   47.6635   \n",
      "\n",
      "       longitude  living_room_size  lot_size  \n",
      "19254    -122.32            1810.0    3745.0  \n",
      "           price  bedrooms  bathrooms  floors  waterfront  view  condition  \\\n",
      "13314  1148000.0      10.0       5.25     1.0         0.0   2.0        3.0   \n",
      "\n",
      "       review_score  basement_size   built  renovation  zipcode  latitude  \\\n",
      "13314           9.0         2090.0  2008.0         0.0  98004.0   47.5861   \n",
      "\n",
      "       longitude  living_room_size  lot_size  \n",
      "13314   -122.113            2730.0   10400.0  \n"
     ]
    }
   ],
   "source": [
    "print(df5.loc[[8757]]) # Let's zoom in to examine the first 5 entries that claimed to possess 11 and 10 bedrooms respectively.\n",
    "print(df5.loc[[22641]])\n",
    "print(df5.loc[[15161]])\n",
    "print(df5.loc[[19254]])\n",
    "print(df5.loc[[13314]])"
   ]
  },
  {
   "cell_type": "code",
   "execution_count": 173,
   "metadata": {},
   "outputs": [
    {
     "data": {
      "text/plain": [
       "3119     0.0\n",
       "4868     0.0\n",
       "6994     0.0\n",
       "9773     0.0\n",
       "3467     0.0\n",
       "19452    0.0\n",
       "9854     0.0\n",
       "12653    0.0\n",
       "14423    0.0\n",
       "875      0.0\n",
       "18379    0.0\n",
       "Name: bedrooms, dtype: float64"
      ]
     },
     "execution_count": 173,
     "metadata": {},
     "output_type": "execute_result"
    }
   ],
   "source": [
    "# Entries 8757 & 22641 seemed to be the same house. However, the review_score is different being 1 is NaN while the other a 10.\n",
    "# While the 10 bedrooms houses seemed not too impossible to be true, their number of bathrooms seemed too litle or in decimal.\n",
    "\n",
    "# let's also examine all the zero numbers of bedrooms types which is kind of strange to me why big houses has no bedrooms.\n",
    "\n",
    "df5.bedrooms.sort_values(ascending = True).head(11) # This pin-point exactly where are all the 11 zero bedrooms outliers."
   ]
  },
  {
   "cell_type": "code",
   "execution_count": 164,
   "metadata": {},
   "outputs": [
    {
     "name": "stdout",
     "output_type": "stream",
     "text": [
      "         price  bedrooms  bathrooms  floors  waterfront  view  condition  \\\n",
      "3119  380000.0       0.0        0.0     3.0         0.0   2.0        3.0   \n",
      "\n",
      "      review_score  basement_size   built  renovation  zipcode  latitude  \\\n",
      "3119           8.0            0.0  2006.0         0.0  98133.0   47.7145   \n",
      "\n",
      "      longitude  living_room_size  lot_size  \n",
      "3119   -122.356            1470.0    1399.0  \n",
      "         price  bedrooms  bathrooms  floors  waterfront  view  condition  \\\n",
      "4868  228000.0       0.0        1.0     1.0         0.0   0.0        2.0   \n",
      "\n",
      "      review_score  basement_size   built  renovation  zipcode  latitude  \\\n",
      "4868           7.0            0.0  1953.0         0.0  98118.0    47.526   \n",
      "\n",
      "      longitude  living_room_size  lot_size  \n",
      "4868   -122.261            2170.0    6000.0  \n",
      "          price  bedrooms  bathrooms  floors  waterfront  view  condition  \\\n",
      "6994  1295650.0       0.0        0.0     2.0         0.0   0.0        3.0   \n",
      "\n",
      "      review_score  basement_size   built  renovation  zipcode  latitude  \\\n",
      "6994           7.0            0.0  1990.0         0.0  98053.0   47.6642   \n",
      "\n",
      "      longitude  living_room_size  lot_size  \n",
      "6994   -122.069            4740.0   35061.0  \n",
      "         price  bedrooms  bathrooms  floors  waterfront  view  condition  \\\n",
      "9773  355000.0       0.0        0.0     2.0         0.0   0.0        3.0   \n",
      "\n",
      "      review_score  basement_size   built  renovation  zipcode  latitude  \\\n",
      "9773           7.0            0.0  1990.0         0.0  98031.0   47.4095   \n",
      "\n",
      "      longitude  living_room_size  lot_size  \n",
      "9773   -122.168            2520.0    8050.0  \n",
      "         price  bedrooms  bathrooms  floors  waterfront  view  condition  \\\n",
      "3467  288000.0       0.0        1.5     3.0         0.0   0.0        3.0   \n",
      "\n",
      "      review_score  basement_size   built  renovation  zipcode  latitude  \\\n",
      "3467           7.0            0.0  1999.0         0.0  98125.0   47.7222   \n",
      "\n",
      "      longitude  living_room_size  lot_size  \n",
      "3467    -122.29            1430.0    1650.0  \n"
     ]
    }
   ],
   "source": [
    "print(df5.loc[[3119]]) # Let's zoom in to examine the first 5 entries that claimed to have zero bedrooms in their big houses.\n",
    "print(df5.loc[[4868]])\n",
    "print(df5.loc[[6994]])\n",
    "print(df5.loc[[9773]])\n",
    "print(df5.loc[[3467]])"
   ]
  },
  {
   "cell_type": "code",
   "execution_count": 165,
   "metadata": {},
   "outputs": [],
   "source": [
    "# Entries 3119, 6994 and 9773 all claimed to have no bathrooms too. Seemed strange to me why a house has no bathrooms.\n",
    "# Entry 4868 has a lot_size of 6000. A very big land size since it is on one single floor yet come with no bedroom at all.\n",
    "# Entry 3467 has 1.5 bathroom. How to have a half size bathroom? \n",
    "# Entry 3467 also has a lot_size of 1650 with 3 floors meaning each floor about >600, how to have a living_room_size = 1430?\n",
    "# As such, i will be removing all the 0, 1 as well as 7, 8, 9, 10 & 11 bedrooms entries as i believe they are outliers.\n",
    "\n",
    "df6 = df5.copy() # Securing df5 as the latest original dataset removing the bedrooms outliers entries."
   ]
  },
  {
   "cell_type": "code",
   "execution_count": 166,
   "metadata": {},
   "outputs": [],
   "source": [
    "df6 = df6[df6.bedrooms <= 6] # Removing all the 7, 8, 9, 10 & 11 bedrooms entries as i believe they are outliers."
   ]
  },
  {
   "cell_type": "code",
   "execution_count": 167,
   "metadata": {},
   "outputs": [],
   "source": [
    "df6 = df6[df6.bedrooms >= 2] # Removing all the 0 & 1 bedrooms entries as i believe they are also outliers."
   ]
  },
  {
   "cell_type": "code",
   "execution_count": 174,
   "metadata": {},
   "outputs": [
    {
     "data": {
      "text/plain": [
       "array([3., 2., 4., 5., 6.])"
      ]
     },
     "execution_count": 174,
     "metadata": {},
     "output_type": "execute_result"
    }
   ],
   "source": [
    "df6['bedrooms'].unique() # To confirm i had removed outliers for 0, 1 as well as 7, 8, 9, 10 & 11 bedrooms entries."
   ]
  },
  {
   "cell_type": "code",
   "execution_count": 175,
   "metadata": {},
   "outputs": [
    {
     "data": {
      "text/plain": [
       "3.0    9565\n",
       "4.0    6709\n",
       "2.0    2678\n",
       "5.0    1562\n",
       "6.0     253\n",
       "Name: bedrooms, dtype: int64"
      ]
     },
     "execution_count": 175,
     "metadata": {},
     "output_type": "execute_result"
    }
   ],
   "source": [
    "df6.bedrooms.value_counts() "
   ]
  },
  {
   "cell_type": "code",
   "execution_count": 176,
   "metadata": {},
   "outputs": [
    {
     "data": {
      "text/plain": [
       "price                  0\n",
       "bedrooms               0\n",
       "bathrooms            102\n",
       "floors               107\n",
       "waterfront           110\n",
       "view                  91\n",
       "condition              0\n",
       "review_score        1173\n",
       "basement_size        101\n",
       "built                108\n",
       "renovation            96\n",
       "zipcode               96\n",
       "latitude             101\n",
       "longitude            106\n",
       "living_room_size     100\n",
       "lot_size              97\n",
       "dtype: int64"
      ]
     },
     "execution_count": 176,
     "metadata": {},
     "output_type": "execute_result"
    }
   ],
   "source": [
    "df6.isna().sum() # To confirm bedrooms column is cleared from NaNs / Null / NA values."
   ]
  },
  {
   "cell_type": "code",
   "execution_count": 177,
   "metadata": {},
   "outputs": [
    {
     "data": {
      "text/plain": [
       "(20767, 16)"
      ]
     },
     "execution_count": 177,
     "metadata": {},
     "output_type": "execute_result"
    }
   ],
   "source": [
    "df6.shape # The latest total number of entries with 16 columns / features."
   ]
  },
  {
   "cell_type": "code",
   "execution_count": 178,
   "metadata": {},
   "outputs": [
    {
     "data": {
      "text/plain": [
       "array([1.  , 2.25, 3.  , 2.  , 4.5 , 1.5 , 2.5 , 1.75, 2.75, 3.25, 4.  ,\n",
       "        nan, 3.5 , 4.75, 5.  , 4.25, 3.75, 0.75, 1.25, 5.25, 6.  , 0.5 ,\n",
       "       5.5 , 5.75, 8.  , 6.75, 7.75, 6.25, 6.5 ])"
      ]
     },
     "execution_count": 178,
     "metadata": {},
     "output_type": "execute_result"
    }
   ],
   "source": [
    "# Next on the list to replace NaNs is the bathrooms column.\n",
    "\n",
    "df6['bathrooms'].unique() # Uniquely show all the various bathrooms types. Notice the max is 8 bathrooms? Need to investigate."
   ]
  },
  {
   "cell_type": "code",
   "execution_count": 179,
   "metadata": {},
   "outputs": [
    {
     "data": {
      "text/plain": [
       "2.50    5189\n",
       "1.00    3606\n",
       "1.75    2933\n",
       "2.25    1994\n",
       "2.00    1872\n",
       "1.50    1396\n",
       "2.75    1146\n",
       "3.00     707\n",
       "3.50     702\n",
       "3.25     566\n",
       "3.75     145\n",
       "4.00     120\n",
       "4.50      89\n",
       "4.25      74\n",
       "0.75      44\n",
       "5.00      17\n",
       "4.75      17\n",
       "5.25      12\n",
       "5.50      10\n",
       "1.25       7\n",
       "6.00       5\n",
       "5.75       4\n",
       "0.50       3\n",
       "6.25       2\n",
       "6.50       2\n",
       "8.00       1\n",
       "7.75       1\n",
       "6.75       1\n",
       "Name: bathrooms, dtype: int64"
      ]
     },
     "execution_count": 179,
     "metadata": {},
     "output_type": "execute_result"
    }
   ],
   "source": [
    "df6.bathrooms.value_counts() # Show popularity level of bathrooms types. Note : There may be outliers. Why so many bathrooms?"
   ]
  },
  {
   "cell_type": "code",
   "execution_count": 181,
   "metadata": {},
   "outputs": [],
   "source": [
    "df6.bathrooms = df6.bathrooms.fillna(value=df6.bathrooms.median()) # Replacing all NaNs with the bathrooms column's own median."
   ]
  },
  {
   "cell_type": "code",
   "execution_count": 182,
   "metadata": {},
   "outputs": [
    {
     "data": {
      "text/plain": [
       "array([1.  , 2.25, 3.  , 2.  , 4.5 , 1.5 , 2.5 , 1.75, 2.75, 3.25, 4.  ,\n",
       "       3.5 , 4.75, 5.  , 4.25, 3.75, 0.75, 1.25, 5.25, 6.  , 0.5 , 5.5 ,\n",
       "       5.75, 8.  , 6.75, 7.75, 6.25, 6.5 ])"
      ]
     },
     "execution_count": 182,
     "metadata": {},
     "output_type": "execute_result"
    }
   ],
   "source": [
    "df6['bathrooms'].unique() # To confirm, after replacing with its own median, there is NO more NaNs in the bathrooms column."
   ]
  },
  {
   "cell_type": "code",
   "execution_count": 183,
   "metadata": {},
   "outputs": [
    {
     "data": {
      "text/plain": [
       "2.50    5189\n",
       "1.00    3606\n",
       "1.75    2933\n",
       "2.25    2096\n",
       "2.00    1872\n",
       "1.50    1396\n",
       "2.75    1146\n",
       "3.00     707\n",
       "3.50     702\n",
       "3.25     566\n",
       "3.75     145\n",
       "4.00     120\n",
       "4.50      89\n",
       "4.25      74\n",
       "0.75      44\n",
       "5.00      17\n",
       "4.75      17\n",
       "5.25      12\n",
       "5.50      10\n",
       "1.25       7\n",
       "6.00       5\n",
       "5.75       4\n",
       "0.50       3\n",
       "6.25       2\n",
       "6.50       2\n",
       "8.00       1\n",
       "7.75       1\n",
       "6.75       1\n",
       "Name: bathrooms, dtype: int64"
      ]
     },
     "execution_count": 183,
     "metadata": {},
     "output_type": "execute_result"
    }
   ],
   "source": [
    "df6.bathrooms.value_counts() # Note : all NaNs were replaced by its own median at 2.25 (up from 1994 entries to 2096 entries)."
   ]
  },
  {
   "cell_type": "code",
   "execution_count": 187,
   "metadata": {},
   "outputs": [],
   "source": [
    "df6['bathrooms'] = df6['bathrooms'].astype(\"int\") # Converting float to integer as bathrooms values shouldn't have decimals."
   ]
  },
  {
   "cell_type": "code",
   "execution_count": 191,
   "metadata": {},
   "outputs": [
    {
     "data": {
      "text/plain": [
       "price               float64\n",
       "bedrooms            float64\n",
       "bathrooms             int32\n",
       "floors              float64\n",
       "waterfront          float64\n",
       "view                float64\n",
       "condition           float64\n",
       "review_score        float64\n",
       "basement_size       float64\n",
       "built               float64\n",
       "renovation          float64\n",
       "zipcode             float64\n",
       "latitude            float64\n",
       "longitude           float64\n",
       "living_room_size    float64\n",
       "lot_size            float64\n",
       "dtype: object"
      ]
     },
     "execution_count": 191,
     "metadata": {},
     "output_type": "execute_result"
    }
   ],
   "source": [
    "df6.dtypes # To check the datatypes in our dataset to verify that our code above had indeed worked."
   ]
  },
  {
   "cell_type": "code",
   "execution_count": 189,
   "metadata": {},
   "outputs": [
    {
     "data": {
      "text/plain": [
       "array([1, 2, 3, 4, 5, 0, 6, 8, 7])"
      ]
     },
     "execution_count": 189,
     "metadata": {},
     "output_type": "execute_result"
    }
   ],
   "source": [
    "df6['bathrooms'].unique() # To confirm no more NaNs in the bathrooms column & keeping its uniqueness lean & neat."
   ]
  },
  {
   "cell_type": "code",
   "execution_count": 190,
   "metadata": {},
   "outputs": [
    {
     "data": {
      "text/plain": [
       "2    10303\n",
       "1     7942\n",
       "3     2120\n",
       "4      300\n",
       "0       47\n",
       "5       43\n",
       "6       10\n",
       "8        1\n",
       "7        1\n",
       "Name: bathrooms, dtype: int64"
      ]
     },
     "execution_count": 190,
     "metadata": {},
     "output_type": "execute_result"
    }
   ],
   "source": [
    "df6.bathrooms.value_counts() # Note : all NaNs had been replaced by its own median & we can identify the outliers easily."
   ]
  },
  {
   "cell_type": "code",
   "execution_count": 192,
   "metadata": {},
   "outputs": [
    {
     "data": {
      "text/plain": [
       "<matplotlib.axes._subplots.AxesSubplot at 0x17fe5b227c8>"
      ]
     },
     "execution_count": 192,
     "metadata": {},
     "output_type": "execute_result"
    },
    {
     "data": {
      "image/png": "[encoded data removed]",
      "text/plain": [
       "<Figure size 432x288 with 1 Axes>"
      ]
     },
     "metadata": {
      "needs_background": "light"
     },
     "output_type": "display_data"
    }
   ],
   "source": [
    "sns.countplot(df6.bathrooms,order=df6['bathrooms'].value_counts().index) # Graphical countplot representation appeals better."
   ]
  },
  {
   "cell_type": "code",
   "execution_count": 195,
   "metadata": {},
   "outputs": [
    {
     "data": {
      "text/plain": [
       "7252     8\n",
       "9254     7\n",
       "19148    6\n",
       "18302    6\n",
       "12370    6\n",
       "14556    6\n",
       "8092     6\n",
       "1315     6\n",
       "21506    6\n",
       "21050    6\n",
       "20578    6\n",
       "21344    6\n",
       "Name: bathrooms, dtype: int32"
      ]
     },
     "execution_count": 195,
     "metadata": {},
     "output_type": "execute_result"
    }
   ],
   "source": [
    "df6.bathrooms.sort_values(ascending = False).head(12) # This allow us to pin-point exactly where are the top 12 outliers."
   ]
  },
  {
   "cell_type": "code",
   "execution_count": 197,
   "metadata": {},
   "outputs": [
    {
     "name": "stdout",
     "output_type": "stream",
     "text": [
      "          price  bedrooms  bathrooms  floors  waterfront  view  condition  \\\n",
      "7252  7700000.0       6.0          8     2.5         0.0   3.0        4.0   \n",
      "\n",
      "      review_score  basement_size   built  renovation  zipcode  latitude  \\\n",
      "7252           6.0         3480.0  1910.0      1987.0  98102.0   47.6298   \n",
      "\n",
      "      longitude  living_room_size  lot_size  \n",
      "7252   -122.323            3940.0    8800.0  \n",
      "          price  bedrooms  bathrooms  floors  waterfront  view  condition  \\\n",
      "9254  6885000.0       6.0          7     2.0         0.0   4.0        3.0   \n",
      "\n",
      "      review_score  basement_size   built  renovation  zipcode  latitude  \\\n",
      "9254          10.0         1030.0  2001.0         0.0  98039.0   47.6305   \n",
      "\n",
      "      longitude  living_room_size  lot_size  \n",
      "9254    -122.24            4540.0   42730.0  \n",
      "           price  bedrooms  bathrooms  floors  waterfront  view  condition  \\\n",
      "19148  3635000.0       5.0          6     2.0         0.0   0.0        3.0   \n",
      "\n",
      "       review_score  basement_size   built  renovation  zipcode  latitude  \\\n",
      "19148           8.0            0.0  2005.0         0.0  98039.0   47.6165   \n",
      "\n",
      "       longitude  living_room_size  lot_size  \n",
      "19148   -122.236            2910.0   17600.0  \n",
      "           price  bedrooms  bathrooms  floors  waterfront  view  condition  \\\n",
      "18302  3300000.0       5.0          6     2.0         0.0   0.0        3.0   \n",
      "\n",
      "       review_score  basement_size   built  renovation  zipcode  latitude  \\\n",
      "18302           7.0            0.0  2001.0         0.0  98006.0   47.5675   \n",
      "\n",
      "       longitude  living_room_size  lot_size  \n",
      "18302   -122.189            4160.0   18969.0  \n",
      "           price  bedrooms  bathrooms  floors  waterfront  view  condition  \\\n",
      "12370  4208000.0       5.0          6     2.0         0.0   0.0        3.0   \n",
      "\n",
      "       review_score  basement_size   built  renovation  zipcode  latitude  \\\n",
      "12370           8.0         1890.0  2003.0         0.0  98006.0   47.5692   \n",
      "\n",
      "       longitude  living_room_size  lot_size  \n",
      "12370   -122.189            4740.0   19329.0  \n"
     ]
    }
   ],
   "source": [
    "print(df6.loc[[7252]]) # Let's zoom in to examine the first 5 entries that claimed to possess 8, 7 & 6 bathrooms respectively.\n",
    "print(df6.loc[[9254]])\n",
    "print(df6.loc[[19148]])\n",
    "print(df6.loc[[18302]])\n",
    "print(df6.loc[[12370]])"
   ]
  },
  {
   "cell_type": "code",
   "execution_count": 199,
   "metadata": {},
   "outputs": [
    {
     "data": {
      "text/plain": [
       "(20694, 16)"
      ]
     },
     "execution_count": 199,
     "metadata": {},
     "output_type": "execute_result"
    }
   ],
   "source": [
    "# Entry 7252 showed that although it has as many as 6 bedrooms but it has even more bathrooms. It has 8 bathrooms.\n",
    "# After discussing with an experienced property agent, i had decided to remove outliers that has bathrooms more than bedrooms.\n",
    "\n",
    "df7 = df6[df6.bathrooms<df6.bedrooms+1] # Removing outliers that has bathrooms more than their bedrooms. Generally uncommon.\n",
    "df7.shape"
   ]
  },
  {
   "cell_type": "code",
   "execution_count": 201,
   "metadata": {},
   "outputs": [
    {
     "data": {
      "text/plain": [
       "(20647, 16)"
      ]
     },
     "execution_count": 201,
     "metadata": {},
     "output_type": "execute_result"
    }
   ],
   "source": [
    "df7 = df7[df7.bathrooms != 0] # Removing all the 0 bathrooms rows as i believe these are outliers too. No bathrooms at home?!\n",
    "df7.shape"
   ]
  },
  {
   "cell_type": "code",
   "execution_count": 202,
   "metadata": {},
   "outputs": [
    {
     "data": {
      "text/plain": [
       "price                  0\n",
       "bedrooms               0\n",
       "bathrooms              0\n",
       "floors               107\n",
       "waterfront           110\n",
       "view                  91\n",
       "condition              0\n",
       "review_score        1168\n",
       "basement_size        101\n",
       "built                108\n",
       "renovation            96\n",
       "zipcode               96\n",
       "latitude             101\n",
       "longitude            106\n",
       "living_room_size     100\n",
       "lot_size              97\n",
       "dtype: int64"
      ]
     },
     "execution_count": 202,
     "metadata": {},
     "output_type": "execute_result"
    }
   ],
   "source": [
    "df7.isna().sum() # To confirm bathrooms column is cleared from NaNs / Null / NA values."
   ]
  },
  {
   "cell_type": "code",
   "execution_count": 203,
   "metadata": {},
   "outputs": [
    {
     "data": {
      "text/plain": [
       "array([1. , 2. , 1.5, 3. , nan, 2.5, 3.5])"
      ]
     },
     "execution_count": 203,
     "metadata": {},
     "output_type": "execute_result"
    }
   ],
   "source": [
    "# Next on the list to replace NaNs is the floors column.\n",
    "\n",
    "df7['floors'].unique() # Reveals all the various unique floor types. "
   ]
  },
  {
   "cell_type": "code",
   "execution_count": 204,
   "metadata": {},
   "outputs": [
    {
     "data": {
      "text/plain": [
       "1.0    10109\n",
       "2.0     7866\n",
       "1.5     1829\n",
       "3.0      581\n",
       "2.5      150\n",
       "3.5        5\n",
       "Name: floors, dtype: int64"
      ]
     },
     "execution_count": 204,
     "metadata": {},
     "output_type": "execute_result"
    }
   ],
   "source": [
    "df7.floors.value_counts() # A ranking on all the floor types. It is common to have half a floor such as an attic or a loft."
   ]
  },
  {
   "cell_type": "code",
   "execution_count": 205,
   "metadata": {},
   "outputs": [],
   "source": [
    "df7.floors = df7.floors.fillna(value=df7.floors.median()) # Replacing all NaNs with the floors column's own median."
   ]
  },
  {
   "cell_type": "code",
   "execution_count": 206,
   "metadata": {},
   "outputs": [
    {
     "data": {
      "text/plain": [
       "array([1. , 2. , 1.5, 3. , 2.5, 3.5])"
      ]
     },
     "execution_count": 206,
     "metadata": {},
     "output_type": "execute_result"
    }
   ],
   "source": [
    "df7['floors'].unique() # Reveals all the various unique floor types. All NaNs by now should be replaced by it's own median."
   ]
  },
  {
   "cell_type": "code",
   "execution_count": 207,
   "metadata": {},
   "outputs": [
    {
     "data": {
      "text/plain": [
       "1.0    10109\n",
       "2.0     7866\n",
       "1.5     1936\n",
       "3.0      581\n",
       "2.5      150\n",
       "3.5        5\n",
       "Name: floors, dtype: int64"
      ]
     },
     "execution_count": 207,
     "metadata": {},
     "output_type": "execute_result"
    }
   ],
   "source": [
    "df7.floors.value_counts() # A ranking on all the floor types. (1936 entries - 1829 entries = 107 Null values replaced)."
   ]
  },
  {
   "cell_type": "code",
   "execution_count": 208,
   "metadata": {},
   "outputs": [
    {
     "data": {
      "text/plain": [
       "array([ 0.,  1., nan])"
      ]
     },
     "execution_count": 208,
     "metadata": {},
     "output_type": "execute_result"
    }
   ],
   "source": [
    "# Next on the list to replace NaNs is the waterfront column.\n",
    "\n",
    "df7['waterfront'].unique() # Reveals all the various unique waterfront boolean answers. "
   ]
  },
  {
   "cell_type": "code",
   "execution_count": 209,
   "metadata": {},
   "outputs": [
    {
     "data": {
      "text/plain": [
       "0.0    20387\n",
       "1.0      150\n",
       "Name: waterfront, dtype: int64"
      ]
     },
     "execution_count": 209,
     "metadata": {},
     "output_type": "execute_result"
    }
   ],
   "source": [
    "df7.waterfront.value_counts() # A show on all the waterfront counts."
   ]
  },
  {
   "cell_type": "code",
   "execution_count": 211,
   "metadata": {},
   "outputs": [
    {
     "data": {
      "text/plain": [
       "(20647, 16)"
      ]
     },
     "execution_count": 211,
     "metadata": {},
     "output_type": "execute_result"
    }
   ],
   "source": [
    "df7.waterfront = df7.waterfront.fillna(value=df7.waterfront.median()) # Replacing all NaNs with the column's own median.\n",
    "df7.shape"
   ]
  },
  {
   "cell_type": "code",
   "execution_count": 212,
   "metadata": {},
   "outputs": [
    {
     "data": {
      "text/plain": [
       "0.0    20497\n",
       "1.0      150\n",
       "Name: waterfront, dtype: int64"
      ]
     },
     "execution_count": 212,
     "metadata": {},
     "output_type": "execute_result"
    }
   ],
   "source": [
    "df7.waterfront.value_counts() # A show on all the waterfront counts. (20497 entries - 20387 entries = 110 NaNs replaced)."
   ]
  },
  {
   "cell_type": "code",
   "execution_count": 213,
   "metadata": {},
   "outputs": [
    {
     "data": {
      "text/plain": [
       "price                  0\n",
       "bedrooms               0\n",
       "bathrooms              0\n",
       "floors                 0\n",
       "waterfront             0\n",
       "view                  91\n",
       "condition              0\n",
       "review_score        1168\n",
       "basement_size        101\n",
       "built                108\n",
       "renovation            96\n",
       "zipcode               96\n",
       "latitude             101\n",
       "longitude            106\n",
       "living_room_size     100\n",
       "lot_size              97\n",
       "dtype: int64"
      ]
     },
     "execution_count": 213,
     "metadata": {},
     "output_type": "execute_result"
    }
   ],
   "source": [
    "df7.isna().sum() # To confirm waterfront column had replaced all its NaNs / Null / NA values with its very own median."
   ]
  },
  {
   "cell_type": "code",
   "execution_count": 214,
   "metadata": {},
   "outputs": [
    {
     "data": {
      "text/plain": [
       "array([ 0.,  3.,  4.,  2., nan,  1.])"
      ]
     },
     "execution_count": 214,
     "metadata": {},
     "output_type": "execute_result"
    }
   ],
   "source": [
    "# Next on the list to replace NaNs is the view column.\n",
    "\n",
    "df7['view'].unique() # Reveals all the various unique view ratings. "
   ]
  },
  {
   "cell_type": "code",
   "execution_count": 215,
   "metadata": {},
   "outputs": [
    {
     "data": {
      "text/plain": [
       "0.0    18586\n",
       "2.0      889\n",
       "3.0      473\n",
       "1.0      314\n",
       "4.0      294\n",
       "Name: view, dtype: int64"
      ]
     },
     "execution_count": 215,
     "metadata": {},
     "output_type": "execute_result"
    }
   ],
   "source": [
    "df7.view.value_counts() # A show on the count of all the different view ratings."
   ]
  },
  {
   "cell_type": "code",
   "execution_count": 216,
   "metadata": {},
   "outputs": [
    {
     "data": {
      "text/plain": [
       "(20647, 16)"
      ]
     },
     "execution_count": 216,
     "metadata": {},
     "output_type": "execute_result"
    }
   ],
   "source": [
    "df7.view = df7.view.fillna(value=df7.view.median()) # Replacing all NaNs with the view column's own median.\n",
    "df7.shape"
   ]
  },
  {
   "cell_type": "code",
   "execution_count": 217,
   "metadata": {},
   "outputs": [
    {
     "data": {
      "text/plain": [
       "array([0., 3., 4., 2., 1.])"
      ]
     },
     "execution_count": 217,
     "metadata": {},
     "output_type": "execute_result"
    }
   ],
   "source": [
    "df7['view'].unique() # Reveals all the various unique view ratings. All NaNs replaced by it's own median."
   ]
  },
  {
   "cell_type": "code",
   "execution_count": 218,
   "metadata": {},
   "outputs": [
    {
     "data": {
      "text/plain": [
       "0.0    18677\n",
       "2.0      889\n",
       "3.0      473\n",
       "1.0      314\n",
       "4.0      294\n",
       "Name: view, dtype: int64"
      ]
     },
     "execution_count": 218,
     "metadata": {},
     "output_type": "execute_result"
    }
   ],
   "source": [
    "df7.view.value_counts() # A show on all the view counts. (18677 entries - 18586 entries = 91 NaNs replaced)."
   ]
  },
  {
   "cell_type": "code",
   "execution_count": 219,
   "metadata": {},
   "outputs": [
    {
     "data": {
      "text/plain": [
       "array([10.,  7.,  8.,  6.,  9., nan,  5., 11., 12.,  4., 13.,  1.,  3.])"
      ]
     },
     "execution_count": 219,
     "metadata": {},
     "output_type": "execute_result"
    }
   ],
   "source": [
    "# Next on the list to replace NaNs is the review_score column.\n",
    "\n",
    "df7['review_score'].unique() # Reveals all the various unique review_score ratings. "
   ]
  },
  {
   "cell_type": "code",
   "execution_count": 220,
   "metadata": {},
   "outputs": [
    {
     "data": {
      "text/plain": [
       "7.0     8082\n",
       "8.0     5467\n",
       "9.0     2359\n",
       "6.0     1841\n",
       "10.0    1028\n",
       "11.0     355\n",
       "5.0      218\n",
       "12.0      85\n",
       "4.0       26\n",
       "13.0      15\n",
       "3.0        2\n",
       "1.0        1\n",
       "Name: review_score, dtype: int64"
      ]
     },
     "execution_count": 220,
     "metadata": {},
     "output_type": "execute_result"
    }
   ],
   "source": [
    "df7.review_score.value_counts() # A show on the count of all the various review_score ratings."
   ]
  },
  {
   "cell_type": "code",
   "execution_count": 221,
   "metadata": {},
   "outputs": [],
   "source": [
    "# Replacing all NaNs with the review_score column's own median. \n",
    "\n",
    "df7.review_score = df7.review_score.fillna(value=df7.review_score.median()) "
   ]
  },
  {
   "cell_type": "code",
   "execution_count": 222,
   "metadata": {},
   "outputs": [
    {
     "data": {
      "text/plain": [
       "array([10.,  7.,  8.,  6.,  9.,  5., 11., 12.,  4., 13.,  1.,  3.])"
      ]
     },
     "execution_count": 222,
     "metadata": {},
     "output_type": "execute_result"
    }
   ],
   "source": [
    "df7['review_score'].unique() # Reveals all the various unique review_score ratings. All NaNs replaced by it's own median."
   ]
  },
  {
   "cell_type": "code",
   "execution_count": 223,
   "metadata": {},
   "outputs": [
    {
     "data": {
      "text/plain": [
       "7.0     9250\n",
       "8.0     5467\n",
       "9.0     2359\n",
       "6.0     1841\n",
       "10.0    1028\n",
       "11.0     355\n",
       "5.0      218\n",
       "12.0      85\n",
       "4.0       26\n",
       "13.0      15\n",
       "3.0        2\n",
       "1.0        1\n",
       "Name: review_score, dtype: int64"
      ]
     },
     "execution_count": 223,
     "metadata": {},
     "output_type": "execute_result"
    }
   ],
   "source": [
    "df7.review_score.value_counts() # A count of all the various review_score ratings. (9250 - 8082 = 1168 NaNs replaced)."
   ]
  },
  {
   "cell_type": "code",
   "execution_count": 224,
   "metadata": {},
   "outputs": [],
   "source": [
    "# Replacing all NaNs with the basement_size column's own median. \n",
    "\n",
    "df7.basement_size = df7.basement_size.fillna(value=df7.basement_size.median()) "
   ]
  },
  {
   "cell_type": "code",
   "execution_count": 225,
   "metadata": {},
   "outputs": [
    {
     "data": {
      "text/plain": [
       "price                 0\n",
       "bedrooms              0\n",
       "bathrooms             0\n",
       "floors                0\n",
       "waterfront            0\n",
       "view                  0\n",
       "condition             0\n",
       "review_score          0\n",
       "basement_size         0\n",
       "built               108\n",
       "renovation           96\n",
       "zipcode              96\n",
       "latitude            101\n",
       "longitude           106\n",
       "living_room_size    100\n",
       "lot_size             97\n",
       "dtype: int64"
      ]
     },
     "execution_count": 225,
     "metadata": {},
     "output_type": "execute_result"
    }
   ],
   "source": [
    "df7.isna().sum() # To confirm basement_size column is cleared from NaNs / Null / NA values with basement_size own median."
   ]
  },
  {
   "cell_type": "code",
   "execution_count": 234,
   "metadata": {},
   "outputs": [],
   "source": [
    "# Replacing all NaNs with the built column's own median. \n",
    "\n",
    "df7.built = df7.built.fillna(value=df7.built.median()) "
   ]
  },
  {
   "cell_type": "code",
   "execution_count": 235,
   "metadata": {},
   "outputs": [],
   "source": [
    "# Replacing all NaNs with the renovation column's own median. \n",
    "\n",
    "df7.renovation = df7.renovation.fillna(value=df7.renovation.median()) "
   ]
  },
  {
   "cell_type": "code",
   "execution_count": 236,
   "metadata": {},
   "outputs": [],
   "source": [
    "# Replacing all NaNs with the zipcode column's own median. \n",
    "\n",
    "df7.zipcode = df7.zipcode.fillna(value=df7.zipcode.median()) "
   ]
  },
  {
   "cell_type": "code",
   "execution_count": 237,
   "metadata": {},
   "outputs": [],
   "source": [
    "# Replacing some of the latitude column's NaNs with a groupby to the zipcode column. Coordinates relates closely to zipcodes.\n",
    "\n",
    "df7['latitude'].fillna(df.groupby('zipcode')['latitude'].transform('median'), inplace=True)"
   ]
  },
  {
   "cell_type": "code",
   "execution_count": 239,
   "metadata": {},
   "outputs": [],
   "source": [
    "# Replacing all the rest of the NaNs with the latitude column's own median. \n",
    "\n",
    "df7.latitude = df7.latitude.fillna(value=df7.latitude.median()) "
   ]
  },
  {
   "cell_type": "code",
   "execution_count": 241,
   "metadata": {},
   "outputs": [],
   "source": [
    "# Replacing some of the longitude column's NaNs with a groupby to the zipcode column. Coordinates relates closely to zipcodes.\n",
    "\n",
    "df7['longitude'].fillna(df.groupby('zipcode')['longitude'].transform('median'), inplace=True)"
   ]
  },
  {
   "cell_type": "code",
   "execution_count": 243,
   "metadata": {},
   "outputs": [],
   "source": [
    "# Replacing all the rest of the NaNs with the longitude column's own median. \n",
    "\n",
    "df7.longitude = df7.longitude.fillna(value=df7.longitude.median()) "
   ]
  },
  {
   "cell_type": "code",
   "execution_count": 245,
   "metadata": {},
   "outputs": [],
   "source": [
    "# Replacing all the rest of the NaNs with the living_room_size column's own median. \n",
    "\n",
    "df7.living_room_size = df7.living_room_size.fillna(value=df7.living_room_size.median()) "
   ]
  },
  {
   "cell_type": "code",
   "execution_count": 247,
   "metadata": {},
   "outputs": [],
   "source": [
    "# Replacing all the rest of the NaNs with the lot_size column's own median. \n",
    "\n",
    "df7.lot_size = df7.lot_size.fillna(value=df7.lot_size.median()) "
   ]
  },
  {
   "cell_type": "code",
   "execution_count": 302,
   "metadata": {},
   "outputs": [
    {
     "data": {
      "text/html": [
       "<div>\n",
       "<style scoped>\n",
       "    .dataframe tbody tr th:only-of-type {\n",
       "        vertical-align: middle;\n",
       "    }\n",
       "\n",
       "    .dataframe tbody tr th {\n",
       "        vertical-align: top;\n",
       "    }\n",
       "\n",
       "    .dataframe thead th {\n",
       "        text-align: right;\n",
       "    }\n",
       "</style>\n",
       "<table border=\"1\" class=\"dataframe\">\n",
       "  <thead>\n",
       "    <tr style=\"text-align: right;\">\n",
       "      <th></th>\n",
       "      <th>price</th>\n",
       "      <th>bedrooms</th>\n",
       "      <th>bathrooms</th>\n",
       "      <th>floors</th>\n",
       "      <th>waterfront</th>\n",
       "      <th>view</th>\n",
       "      <th>condition</th>\n",
       "      <th>review_score</th>\n",
       "      <th>basement_size</th>\n",
       "      <th>built</th>\n",
       "      <th>renovation</th>\n",
       "      <th>zipcode</th>\n",
       "      <th>latitude</th>\n",
       "      <th>longitude</th>\n",
       "      <th>living_room_size</th>\n",
       "      <th>lot_size</th>\n",
       "    </tr>\n",
       "  </thead>\n",
       "  <tbody>\n",
       "    <tr>\n",
       "      <th>count</th>\n",
       "      <td>2.064700e+04</td>\n",
       "      <td>20647.000000</td>\n",
       "      <td>20647.000000</td>\n",
       "      <td>20647.000000</td>\n",
       "      <td>20647.000000</td>\n",
       "      <td>20647.000000</td>\n",
       "      <td>20647.000000</td>\n",
       "      <td>20647.000000</td>\n",
       "      <td>20647.000000</td>\n",
       "      <td>20647.000000</td>\n",
       "      <td>20647.000000</td>\n",
       "      <td>20647.000000</td>\n",
       "      <td>20647.000000</td>\n",
       "      <td>20647.000000</td>\n",
       "      <td>20647.000000</td>\n",
       "      <td>20647.000000</td>\n",
       "    </tr>\n",
       "    <tr>\n",
       "      <th>mean</th>\n",
       "      <td>5.388041e+05</td>\n",
       "      <td>3.383639</td>\n",
       "      <td>1.747857</td>\n",
       "      <td>1.495641</td>\n",
       "      <td>0.007265</td>\n",
       "      <td>0.227006</td>\n",
       "      <td>3.408679</td>\n",
       "      <td>7.621640</td>\n",
       "      <td>289.078559</td>\n",
       "      <td>1971.321403</td>\n",
       "      <td>83.328571</td>\n",
       "      <td>98077.610258</td>\n",
       "      <td>47.560340</td>\n",
       "      <td>-122.213475</td>\n",
       "      <td>1986.546229</td>\n",
       "      <td>12649.758343</td>\n",
       "    </tr>\n",
       "    <tr>\n",
       "      <th>std</th>\n",
       "      <td>3.550861e+05</td>\n",
       "      <td>0.845299</td>\n",
       "      <td>0.699266</td>\n",
       "      <td>0.537763</td>\n",
       "      <td>0.084927</td>\n",
       "      <td>0.754945</td>\n",
       "      <td>0.648457</td>\n",
       "      <td>1.154874</td>\n",
       "      <td>436.964145</td>\n",
       "      <td>29.123341</td>\n",
       "      <td>399.238572</td>\n",
       "      <td>53.338533</td>\n",
       "      <td>0.138703</td>\n",
       "      <td>0.140170</td>\n",
       "      <td>678.602816</td>\n",
       "      <td>26444.965150</td>\n",
       "    </tr>\n",
       "    <tr>\n",
       "      <th>min</th>\n",
       "      <td>7.800000e+04</td>\n",
       "      <td>2.000000</td>\n",
       "      <td>1.000000</td>\n",
       "      <td>1.000000</td>\n",
       "      <td>0.000000</td>\n",
       "      <td>0.000000</td>\n",
       "      <td>1.000000</td>\n",
       "      <td>1.000000</td>\n",
       "      <td>0.000000</td>\n",
       "      <td>1900.000000</td>\n",
       "      <td>0.000000</td>\n",
       "      <td>98001.000000</td>\n",
       "      <td>47.155900</td>\n",
       "      <td>-122.515000</td>\n",
       "      <td>399.000000</td>\n",
       "      <td>651.000000</td>\n",
       "    </tr>\n",
       "    <tr>\n",
       "      <th>25%</th>\n",
       "      <td>3.240000e+05</td>\n",
       "      <td>3.000000</td>\n",
       "      <td>1.000000</td>\n",
       "      <td>1.000000</td>\n",
       "      <td>0.000000</td>\n",
       "      <td>0.000000</td>\n",
       "      <td>3.000000</td>\n",
       "      <td>7.000000</td>\n",
       "      <td>0.000000</td>\n",
       "      <td>1952.000000</td>\n",
       "      <td>0.000000</td>\n",
       "      <td>98033.000000</td>\n",
       "      <td>47.471200</td>\n",
       "      <td>-122.327000</td>\n",
       "      <td>1490.000000</td>\n",
       "      <td>5106.500000</td>\n",
       "    </tr>\n",
       "    <tr>\n",
       "      <th>50%</th>\n",
       "      <td>4.500000e+05</td>\n",
       "      <td>3.000000</td>\n",
       "      <td>2.000000</td>\n",
       "      <td>1.500000</td>\n",
       "      <td>0.000000</td>\n",
       "      <td>0.000000</td>\n",
       "      <td>3.000000</td>\n",
       "      <td>7.000000</td>\n",
       "      <td>0.000000</td>\n",
       "      <td>1975.000000</td>\n",
       "      <td>0.000000</td>\n",
       "      <td>98065.000000</td>\n",
       "      <td>47.572400</td>\n",
       "      <td>-122.229000</td>\n",
       "      <td>1840.000000</td>\n",
       "      <td>7626.500000</td>\n",
       "    </tr>\n",
       "    <tr>\n",
       "      <th>75%</th>\n",
       "      <td>6.460000e+05</td>\n",
       "      <td>4.000000</td>\n",
       "      <td>2.000000</td>\n",
       "      <td>2.000000</td>\n",
       "      <td>0.000000</td>\n",
       "      <td>0.000000</td>\n",
       "      <td>4.000000</td>\n",
       "      <td>8.000000</td>\n",
       "      <td>560.000000</td>\n",
       "      <td>1997.000000</td>\n",
       "      <td>0.000000</td>\n",
       "      <td>98117.000000</td>\n",
       "      <td>47.678600</td>\n",
       "      <td>-122.125000</td>\n",
       "      <td>2360.000000</td>\n",
       "      <td>10050.000000</td>\n",
       "    </tr>\n",
       "    <tr>\n",
       "      <th>max</th>\n",
       "      <td>7.062500e+06</td>\n",
       "      <td>6.000000</td>\n",
       "      <td>6.000000</td>\n",
       "      <td>3.500000</td>\n",
       "      <td>1.000000</td>\n",
       "      <td>4.000000</td>\n",
       "      <td>5.000000</td>\n",
       "      <td>13.000000</td>\n",
       "      <td>3500.000000</td>\n",
       "      <td>2015.000000</td>\n",
       "      <td>2015.000000</td>\n",
       "      <td>98199.000000</td>\n",
       "      <td>47.777600</td>\n",
       "      <td>-121.316000</td>\n",
       "      <td>6210.000000</td>\n",
       "      <td>871200.000000</td>\n",
       "    </tr>\n",
       "  </tbody>\n",
       "</table>\n",
       "</div>"
      ],
      "text/plain": [
       "              price      bedrooms     bathrooms        floors    waterfront  \\\n",
       "count  2.064700e+04  20647.000000  20647.000000  20647.000000  20647.000000   \n",
       "mean   5.388041e+05      3.383639      1.747857      1.495641      0.007265   \n",
       "std    3.550861e+05      0.845299      0.699266      0.537763      0.084927   \n",
       "min    7.800000e+04      2.000000      1.000000      1.000000      0.000000   \n",
       "25%    3.240000e+05      3.000000      1.000000      1.000000      0.000000   \n",
       "50%    4.500000e+05      3.000000      2.000000      1.500000      0.000000   \n",
       "75%    6.460000e+05      4.000000      2.000000      2.000000      0.000000   \n",
       "max    7.062500e+06      6.000000      6.000000      3.500000      1.000000   \n",
       "\n",
       "               view     condition  review_score  basement_size         built  \\\n",
       "count  20647.000000  20647.000000  20647.000000   20647.000000  20647.000000   \n",
       "mean       0.227006      3.408679      7.621640     289.078559   1971.321403   \n",
       "std        0.754945      0.648457      1.154874     436.964145     29.123341   \n",
       "min        0.000000      1.000000      1.000000       0.000000   1900.000000   \n",
       "25%        0.000000      3.000000      7.000000       0.000000   1952.000000   \n",
       "50%        0.000000      3.000000      7.000000       0.000000   1975.000000   \n",
       "75%        0.000000      4.000000      8.000000     560.000000   1997.000000   \n",
       "max        4.000000      5.000000     13.000000    3500.000000   2015.000000   \n",
       "\n",
       "         renovation       zipcode      latitude     longitude  \\\n",
       "count  20647.000000  20647.000000  20647.000000  20647.000000   \n",
       "mean      83.328571  98077.610258     47.560340   -122.213475   \n",
       "std      399.238572     53.338533      0.138703      0.140170   \n",
       "min        0.000000  98001.000000     47.155900   -122.515000   \n",
       "25%        0.000000  98033.000000     47.471200   -122.327000   \n",
       "50%        0.000000  98065.000000     47.572400   -122.229000   \n",
       "75%        0.000000  98117.000000     47.678600   -122.125000   \n",
       "max     2015.000000  98199.000000     47.777600   -121.316000   \n",
       "\n",
       "       living_room_size       lot_size  \n",
       "count      20647.000000   20647.000000  \n",
       "mean        1986.546229   12649.758343  \n",
       "std          678.602816   26444.965150  \n",
       "min          399.000000     651.000000  \n",
       "25%         1490.000000    5106.500000  \n",
       "50%         1840.000000    7626.500000  \n",
       "75%         2360.000000   10050.000000  \n",
       "max         6210.000000  871200.000000  "
      ]
     },
     "execution_count": 302,
     "metadata": {},
     "output_type": "execute_result"
    }
   ],
   "source": [
    "df7.describe() # I'm looking out for big disparity in entries values. Data seemed ok for the columns that clients will pick on."
   ]
  },
  {
   "cell_type": "code",
   "execution_count": 303,
   "metadata": {},
   "outputs": [
    {
     "data": {
      "text/plain": [
       "price               0\n",
       "bedrooms            0\n",
       "bathrooms           0\n",
       "floors              0\n",
       "waterfront          0\n",
       "view                0\n",
       "condition           0\n",
       "review_score        0\n",
       "basement_size       0\n",
       "built               0\n",
       "renovation          0\n",
       "zipcode             0\n",
       "latitude            0\n",
       "longitude           0\n",
       "living_room_size    0\n",
       "lot_size            0\n",
       "dtype: int64"
      ]
     },
     "execution_count": 303,
     "metadata": {},
     "output_type": "execute_result"
    }
   ],
   "source": [
    "df7.isna().sum() # All features columns now has no more NaNs, Null, NA values."
   ]
  },
  {
   "cell_type": "markdown",
   "metadata": {},
   "source": [
    "# <font color = red>(3) <font size = 8>E</font>XPLORING DATA according to the <font color = blue>O.S.<font size = 8>E</font>.M.N.</font> Framework.</font>"
   ]
  },
  {
   "cell_type": "code",
   "execution_count": 304,
   "metadata": {},
   "outputs": [
    {
     "data": {
      "text/plain": [
       "price               1.000000\n",
       "living_room_size    0.585936\n",
       "bathrooms           0.491856\n",
       "view                0.399927\n",
       "latitude            0.317363\n",
       "basement_size       0.314187\n",
       "bedrooms            0.313507\n",
       "waterfront          0.286151\n",
       "floors              0.252305\n",
       "renovation          0.127624\n",
       "lot_size            0.085617\n",
       "built               0.049254\n",
       "condition           0.038515\n",
       "longitude           0.023612\n",
       "review_score       -0.003004\n",
       "zipcode            -0.052257\n",
       "Name: price, dtype: float64"
      ]
     },
     "execution_count": 304,
     "metadata": {},
     "output_type": "execute_result"
    }
   ],
   "source": [
    "# Finding Correlation between price and other variables to verify how many variables are strongly correlated to price.\n",
    "\n",
    "df7.corr()['price'].sort_values(ascending=False)\n",
    "\n",
    "# This Correlation Matrix reveals the correlation between the sold price and the other column features.\n",
    "# One can tell that the strongest correlation is between price and living_room_size (0.59), bathrooms (0.49), and view (0.40). \n",
    "# On the other end, there is iterally no correlation between the sold price with zipcode and review_score (both in negatives)."
   ]
  },
  {
   "cell_type": "code",
   "execution_count": 316,
   "metadata": {},
   "outputs": [
    {
     "data": {
      "image/png": "[encoded data removed]",
      "text/plain": [
       "<Figure size 936x936 with 2 Axes>"
      ]
     },
     "metadata": {
      "needs_background": "light"
     },
     "output_type": "display_data"
    }
   ],
   "source": [
    "# Another way of doing it interestingly, instead of staring at boring figures, we can use nice graphical representation.\n",
    "# To aid us in seeing the correlation, we can use a HeatMap to locate the correlation between the variables in this dataset. \n",
    "\n",
    "plt.subplots(figsize = (13,13)) # Sizing up of the Matplotlib figure.\n",
    "\n",
    "sns.heatmap(df7.corr(),annot=True,linewidths=0.5,linecolor=\"Blue\",fmt=\"1.2f\",cmap='coolwarm') \n",
    "# Plot with seaborn. Black color border squares. Round up & show correlation index.\n",
    "\n",
    "plt.title(\"Home_Sales.db Correlation HeatMap\", fontsize = 30) # Name our HeatMap.\n",
    "\n",
    "plt.show() # Display the Red Hot HeatMap! \n",
    "# Note : The darker the red color the more correlated it is. The darker the blue color the less correlated it will be."
   ]
  },
  {
   "cell_type": "markdown",
   "metadata": {},
   "source": [
    "# <font color = red>(4) <font size = 8>M</font>ODELLING DATA according to the <font color = blue>O.S.E.<font size = 8>M.</font>N.</font> Framework.</font>"
   ]
  },
  {
   "cell_type": "code",
   "execution_count": null,
   "metadata": {},
   "outputs": [],
   "source": [
    "X = df7.drop(['price'], axis = 'columns') # Split data into features and target.\n",
    "\n",
    "y = df7.price\n",
    "\n",
    "\n"
   ]
  }
 ],
 "metadata": {
  "kernelspec": {
   "display_name": "Python 3",
   "language": "python",
   "name": "python3"
  },
  "language_info": {
   "codemirror_mode": {
    "name": "ipython",
    "version": 3
   },
   "file_extension": ".py",
   "mimetype": "text/x-python",
   "name": "python",
   "nbconvert_exporter": "python",
   "pygments_lexer": "ipython3",
   "version": "3.7.6"
  }
 },
 "nbformat": 4,
 "nbformat_minor": 4
}
